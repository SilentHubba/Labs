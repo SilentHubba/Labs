{
 "cells": [
  {
   "cell_type": "code",
   "execution_count": 35,
   "metadata": {},
   "outputs": [],
   "source": [
    "class TreeNode(object):\n",
    "     def __init__(self, val=0, left=None, right=None):\n",
    "         self.val = val\n",
    "         self.left = left\n",
    "         self.right = right"
   ]
  },
  {
   "cell_type": "code",
   "execution_count": 36,
   "metadata": {},
   "outputs": [],
   "source": [
    "def isValidBST(self, root):\n",
    "    # Call a helper function to add arguments for the lower and upper bound of the search\n",
    "    return isValidBSTHelper(self, root, -float('inf'), float('inf'))"
   ]
  },
  {
   "cell_type": "code",
   "execution_count": 37,
   "metadata": {},
   "outputs": [],
   "source": [
    "def isValidBSTHelper(self, root, lower, upper):\n",
    "    # Base case. Return true if the node is empty\n",
    "    if root == None:\n",
    "        return True\n",
    "    \n",
    "    # Check to see if the left and right nodes violate the properties of BSTs\n",
    "    if root.left != None and (root.left.val > root.val or root.left.val < lower or root.left.val > upper):\n",
    "        return False\n",
    "    if root.right != None and (root.right.val < root.val or root.right.val < lower or root.right.val > upper):\n",
    "        return False\n",
    "    \n",
    "    # Check the entire left subtree to see if any node in the left subtree violates the properties of BSTs\n",
    "    maxNum = min(upper, root.val)\n",
    "    if not isValidBSTHelper(root.left, root.left, lower, maxNum):\n",
    "        return False\n",
    "    \n",
    "    # Check the entire right subtree to see if any node in the right subtree violates the properties of BSTs\n",
    "    minNum = max(lower, root.val)\n",
    "    if not isValidBSTHelper(root.right, root.right, minNum, upper):\n",
    "        return False\n",
    "            \n",
    "    # Return true if every node in all subtrees follows the rules of BSTs\n",
    "    return True"
   ]
  },
  {
   "cell_type": "code",
   "execution_count": 38,
   "metadata": {},
   "outputs": [],
   "source": [
    "root = TreeNode(1)\n",
    "nodeTwo = TreeNode(2)\n",
    "nodeThree = TreeNode(3)\n",
    "nodeFour = TreeNode(4)\n",
    "nodeFive = TreeNode(5)\n",
    "nodeSix = TreeNode(6)\n",
    "nodeEight = TreeNode(8)\n",
    "root.left = nodeTwo\n",
    "root.right = nodeEight\n",
    "nodeTwo.left = nodeThree\n",
    "nodeTwo.right = nodeFour\n",
    "nodeEight.left = nodeFive\n",
    "nodeEight.right = nodeSix"
   ]
  },
  {
   "cell_type": "code",
   "execution_count": 39,
   "metadata": {},
   "outputs": [
    {
     "name": "stdout",
     "output_type": "stream",
     "text": [
      "False\n"
     ]
    }
   ],
   "source": [
    "print(isValidBST(root, root)) # Should be false"
   ]
  },
  {
   "cell_type": "code",
   "execution_count": 40,
   "metadata": {},
   "outputs": [
    {
     "data": {
      "text/plain": [
       "'\\n     4\\n  3     8\\n1  x  5   9\\n\\n'"
      ]
     },
     "execution_count": 40,
     "metadata": {},
     "output_type": "execute_result"
    }
   ],
   "source": [
    "root = TreeNode(4)\n",
    "nodeThree = TreeNode(3)\n",
    "nodeOne = TreeNode(1)\n",
    "nodeFive = TreeNode(5)\n",
    "nodeNine = TreeNode(9)\n",
    "nodeEight = TreeNode(8)\n",
    "nodeTwo = TreeNode(2)\n",
    "root.left = nodeThree\n",
    "nodeThree.left = nodeOne\n",
    "root.right = nodeEight\n",
    "nodeEight.left = nodeFive\n",
    "nodeEight.right = nodeNine\n",
    "\"\"\"\n",
    "     4\n",
    "  3     8\n",
    "1  x  5   9\n",
    "\n",
    "\"\"\""
   ]
  },
  {
   "cell_type": "code",
   "execution_count": 41,
   "metadata": {},
   "outputs": [
    {
     "name": "stdout",
     "output_type": "stream",
     "text": [
      "True\n"
     ]
    }
   ],
   "source": [
    "print(isValidBST(root, root)) # Should be true"
   ]
  },
  {
   "cell_type": "code",
   "execution_count": 42,
   "metadata": {},
   "outputs": [
    {
     "name": "stdout",
     "output_type": "stream",
     "text": [
      "False\n"
     ]
    }
   ],
   "source": [
    "print(float('inf') < 1)"
   ]
  },
  {
   "cell_type": "code",
   "execution_count": null,
   "metadata": {},
   "outputs": [],
   "source": []
  }
 ],
 "metadata": {
  "kernelspec": {
   "display_name": "Python 3",
   "language": "python",
   "name": "python3"
  },
  "language_info": {
   "codemirror_mode": {
    "name": "ipython",
    "version": 3
   },
   "file_extension": ".py",
   "mimetype": "text/x-python",
   "name": "python",
   "nbconvert_exporter": "python",
   "pygments_lexer": "ipython3",
   "version": "3.7.6"
  }
 },
 "nbformat": 4,
 "nbformat_minor": 4
}
