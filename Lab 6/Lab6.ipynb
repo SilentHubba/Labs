{
 "cells": [
  {
   "cell_type": "code",
   "execution_count": 22,
   "metadata": {},
   "outputs": [],
   "source": [
    "from queue import Queue\n",
    "\n",
    "def canFinish(numCourses, prerequisites):\n",
    "    # Make a graph with directed edges for which courses you have to take in order\n",
    "    # You can check if the graph is cyclic by doing a check where you see if you ever \n",
    "    # go back to a node that has already been visited. This starts from a node with no edges pointing at it\n",
    "    # If the graph is cyclic, then it cannot finish. Otherwise, it can finish\n",
    "    # Alternatively, you can do topological sort and see whether or not it works. Use a try catch to see if it\n",
    "    # does an infinite loop error\n",
    "    \n",
    "    # Build the graph as a matrix\n",
    "    matrix = [[0]*numCourses for x in range(numCourses)]\n",
    "    for prereq in prerequisites:\n",
    "        matrix[prereq[0]][prereq[1]] = 1\n",
    "        \n",
    "    # Find a node that has an in-degree of 0\n",
    "    rowNum = -1\n",
    "    for i in range(numCourses):\n",
    "        if sum(matrix[i]) == 0:\n",
    "            rowNum = i\n",
    "            break\n",
    "            \n",
    "    if rowNum == -1:\n",
    "        return False\n",
    "    \n",
    "    # Do BFS from the node that we found with an in-degree of 0\n",
    "    visited = []\n",
    "    nodeQueue = Queue()\n",
    "    nodeQueue.put(rowNum)\n",
    "    while not nodeQueue.empty():\n",
    "        currNode = nodeQueue.get()\n",
    "        \n",
    "        # If the node has already been visited, we know we have a cycle and can return false\n",
    "        if currNode in visited:\n",
    "            return False\n",
    "        \n",
    "        visited.append(currNode)\n",
    "        \n",
    "        # Search all nodes\n",
    "        for i in range(numCourses):\n",
    "            if matrix[currNode][i] == 1:\n",
    "                nodeQueue.put(i)\n",
    "    # If we never find a cycle and go through all nodes, return true\n",
    "    return True"
   ]
  },
  {
   "cell_type": "code",
   "execution_count": 23,
   "metadata": {},
   "outputs": [
    {
     "data": {
      "text/plain": [
       "True"
      ]
     },
     "execution_count": 23,
     "metadata": {},
     "output_type": "execute_result"
    }
   ],
   "source": [
    "testNum = 2\n",
    "prereqs = [[1, 0]]\n",
    "canFinish(testNum, prereqs)"
   ]
  },
  {
   "cell_type": "code",
   "execution_count": 24,
   "metadata": {},
   "outputs": [
    {
     "data": {
      "text/plain": [
       "False"
      ]
     },
     "execution_count": 24,
     "metadata": {},
     "output_type": "execute_result"
    }
   ],
   "source": [
    "testNum = 2\n",
    "prereqs = [[1, 0], [0, 1]]\n",
    "canFinish(testNum, prereqs)"
   ]
  },
  {
   "cell_type": "code",
   "execution_count": 25,
   "metadata": {},
   "outputs": [
    {
     "data": {
      "text/plain": [
       "False"
      ]
     },
     "execution_count": 25,
     "metadata": {},
     "output_type": "execute_result"
    }
   ],
   "source": [
    "testNum = 4\n",
    "prereqs = [[0, 1], [1, 2], [2, 3], [3, 0]]\n",
    "canFinish(testNum, prereqs)"
   ]
  },
  {
   "cell_type": "code",
   "execution_count": 26,
   "metadata": {},
   "outputs": [
    {
     "data": {
      "text/plain": [
       "True"
      ]
     },
     "execution_count": 26,
     "metadata": {},
     "output_type": "execute_result"
    }
   ],
   "source": [
    "testNum = 1\n",
    "prereqs = []\n",
    "canFinish(testNum, prereqs)"
   ]
  },
  {
   "cell_type": "code",
   "execution_count": null,
   "metadata": {},
   "outputs": [],
   "source": []
  }
 ],
 "metadata": {
  "kernelspec": {
   "display_name": "Python 3",
   "language": "python",
   "name": "python3"
  },
  "language_info": {
   "codemirror_mode": {
    "name": "ipython",
    "version": 3
   },
   "file_extension": ".py",
   "mimetype": "text/x-python",
   "name": "python",
   "nbconvert_exporter": "python",
   "pygments_lexer": "ipython3",
   "version": "3.7.6"
  }
 },
 "nbformat": 4,
 "nbformat_minor": 4
}
