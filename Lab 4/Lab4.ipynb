{
 "cells": [
  {
   "cell_type": "code",
   "execution_count": 1,
   "metadata": {},
   "outputs": [],
   "source": [
    " class TreeNode(object):\n",
    "     def __init__(self, val=0, left=None, right=None):\n",
    "         self.val = val\n",
    "         self.left = left\n",
    "         self.right = right"
   ]
  },
  {
   "cell_type": "code",
   "execution_count": 2,
   "metadata": {},
   "outputs": [],
   "source": [
    "def invertTree(self, root):\n",
    "    # Base case. If the root is null, don't swap its children\n",
    "    if root == None:\n",
    "        return root\n",
    "    \n",
    "    # Swap the children\n",
    "    tempNode = root.left\n",
    "    root.left = root.right\n",
    "    root.right = tempNode\n",
    "    \n",
    "    # Recursively call the method on the left and right children\n",
    "    invertTree(root.left, root.left)\n",
    "    invertTree(root.right, root.right)\n",
    "            "
   ]
  },
  {
   "cell_type": "code",
   "execution_count": 3,
   "metadata": {},
   "outputs": [],
   "source": [
    "# Test case below\n",
    "root = TreeNode(1)\n",
    "nodeTwo = TreeNode(2)\n",
    "nodeThree = TreeNode(3)\n",
    "nodeFour = TreeNode(4)\n",
    "nodeFive = TreeNode(5)\n",
    "nodeSix = TreeNode(6)\n",
    "nodeEight = TreeNode(8)\n",
    "root.left = nodeTwo\n",
    "root.right = nodeEight\n",
    "nodeTwo.left = nodeThree\n",
    "nodeTwo.right = nodeFour\n",
    "nodeEight.left = nodeFive\n",
    "nodeEight.right = nodeSix"
   ]
  },
  {
   "cell_type": "code",
   "execution_count": 4,
   "metadata": {},
   "outputs": [
    {
     "name": "stdout",
     "output_type": "stream",
     "text": [
      "1\n",
      "2 8\n",
      "3 4 5 6\n"
     ]
    }
   ],
   "source": [
    "print(root.val)\n",
    "print(root.left.val, root.right.val)\n",
    "print(root.left.left.val, root.left.right.val, root.right.left.val, root.right.right.val)"
   ]
  },
  {
   "cell_type": "code",
   "execution_count": 5,
   "metadata": {},
   "outputs": [],
   "source": [
    "invertTree(root, root)"
   ]
  },
  {
   "cell_type": "code",
   "execution_count": 6,
   "metadata": {},
   "outputs": [
    {
     "name": "stdout",
     "output_type": "stream",
     "text": [
      "1\n",
      "8 2\n",
      "6 5 4 3\n"
     ]
    }
   ],
   "source": [
    "print(root.val)\n",
    "print(root.left.val, root.right.val)\n",
    "print(root.left.left.val, root.left.right.val, root.right.left.val, root.right.right.val)"
   ]
  },
  {
   "cell_type": "code",
   "execution_count": 7,
   "metadata": {},
   "outputs": [],
   "source": [
    "nodeOne = TreeNode(1)\n",
    "nodeTwo = TreeNode(2)\n",
    "nodeThree = TreeNode(3)\n",
    "root = TreeNode(4)\n",
    "nodeFive = TreeNode(5)\n",
    "nodeSix = TreeNode(6)\n",
    "nodeEight = TreeNode(8)\n",
    "root.left = nodeTwo\n",
    "nodeTwo.left = nodeOne\n",
    "nodeTwo.right = nodeThree\n",
    "root.right = nodeSix\n",
    "nodeSix.left = nodeFive\n",
    "nodeSix.right = nodeEight"
   ]
  },
  {
   "cell_type": "code",
   "execution_count": 8,
   "metadata": {},
   "outputs": [],
   "source": [
    "invertTree(root, root)"
   ]
  },
  {
   "cell_type": "code",
   "execution_count": 9,
   "metadata": {},
   "outputs": [
    {
     "name": "stdout",
     "output_type": "stream",
     "text": [
      "4\n",
      "6 2\n",
      "8 5 3 1\n"
     ]
    }
   ],
   "source": [
    "print(root.val)\n",
    "print(root.left.val, root.right.val)\n",
    "print(root.left.left.val, root.left.right.val, root.right.left.val, root.right.right.val)"
   ]
  },
  {
   "cell_type": "code",
   "execution_count": null,
   "metadata": {},
   "outputs": [],
   "source": []
  }
 ],
 "metadata": {
  "kernelspec": {
   "display_name": "Python 3",
   "language": "python",
   "name": "python3"
  },
  "language_info": {
   "codemirror_mode": {
    "name": "ipython",
    "version": 3
   },
   "file_extension": ".py",
   "mimetype": "text/x-python",
   "name": "python",
   "nbconvert_exporter": "python",
   "pygments_lexer": "ipython3",
   "version": "3.7.6"
  }
 },
 "nbformat": 4,
 "nbformat_minor": 4
}
