{
 "cells": [
  {
   "cell_type": "code",
   "execution_count": 1,
   "metadata": {},
   "outputs": [],
   "source": [
    "from typing import List"
   ]
  },
  {
   "cell_type": "code",
   "execution_count": 6,
   "metadata": {},
   "outputs": [],
   "source": [
    "def coinChange(self, coins: List[int], amount: int) -> int:\n",
    "    numCoins = [0] * (amount + 1)\n",
    "    for i in range(1, amount+1):\n",
    "        minCoins = float(\"inf\")\n",
    "        for j in range(len(coins)):\n",
    "            if i - coins[j] >= 0:\n",
    "                minCoins = min(minCoins, numCoins[i - coins[j]] + 1)\n",
    "        numCoins[i] = minCoins\n",
    "    if numCoins[amount] == float(\"inf\"):\n",
    "        return -1\n",
    "    return numCoins[amount]\n",
    "    #brute force, tabulation (dynamic programming), greedy approach    "
   ]
  },
  {
   "cell_type": "code",
   "execution_count": 7,
   "metadata": {},
   "outputs": [
    {
     "name": "stdout",
     "output_type": "stream",
     "text": [
      "3\n"
     ]
    }
   ],
   "source": [
    "arr = [1, 2, 5]\n",
    "amount = 11\n",
    "#print(min(float(\"inf\"), 1))\n",
    "print(coinChange(arr, arr, amount))"
   ]
  },
  {
   "cell_type": "code",
   "execution_count": 8,
   "metadata": {},
   "outputs": [
    {
     "name": "stdout",
     "output_type": "stream",
     "text": [
      "-1\n",
      "0\n"
     ]
    }
   ],
   "source": [
    "\"\"\"\n",
    "Test Case 2:\n",
    "Input: coins = [2], amount = 3 \n",
    "Output: -1\n",
    "\n",
    "Test Case 3: \n",
    "Input: coins = [1], amount = 0 \n",
    "Output: 0\n",
    "\"\"\"\n",
    "arr = [2]\n",
    "amount = 3\n",
    "print(coinChange(arr, arr, amount))\n",
    "\n",
    "arr = [1]\n",
    "amount = 0\n",
    "print(coinChange(arr, arr, amount))"
   ]
  },
  {
   "cell_type": "code",
   "execution_count": 9,
   "metadata": {},
   "outputs": [
    {
     "name": "stdout",
     "output_type": "stream",
     "text": [
      "4\n"
     ]
    }
   ],
   "source": [
    "arr = [1, 10, 25]\n",
    "amount = 40\n",
    "print(coinChange(arr, arr, amount))"
   ]
  },
  {
   "cell_type": "code",
   "execution_count": 10,
   "metadata": {},
   "outputs": [
    {
     "name": "stdout",
     "output_type": "stream",
     "text": [
      "3\n"
     ]
    }
   ],
   "source": [
    "arr = [1, 10, 5, 25]\n",
    "amount = 40\n",
    "print(coinChange(arr, arr, amount))"
   ]
  },
  {
   "cell_type": "code",
   "execution_count": 11,
   "metadata": {},
   "outputs": [
    {
     "name": "stdout",
     "output_type": "stream",
     "text": [
      "3\n"
     ]
    }
   ],
   "source": [
    "arr = [1, 5, 10, 25]\n",
    "amount = 40\n",
    "print(coinChange(arr, arr, amount))"
   ]
  },
  {
   "cell_type": "code",
   "execution_count": 12,
   "metadata": {},
   "outputs": [
    {
     "name": "stdout",
     "output_type": "stream",
     "text": [
      "2\n"
     ]
    }
   ],
   "source": [
    "arr = [5, 20, 12]\n",
    "amount = 40\n",
    "print(coinChange(arr, arr, amount))"
   ]
  },
  {
   "cell_type": "code",
   "execution_count": 13,
   "metadata": {},
   "outputs": [
    {
     "name": "stdout",
     "output_type": "stream",
     "text": [
      "2\n"
     ]
    }
   ],
   "source": [
    "arr = [1, 3, 20]\n",
    "amount = 40\n",
    "print(coinChange(arr, arr, amount))"
   ]
  },
  {
   "cell_type": "code",
   "execution_count": 14,
   "metadata": {},
   "outputs": [],
   "source": [
    "def coinChangeBruteForce(self, coins: List[int], amount: int) -> int:\n",
    "    coins.sort()\n",
    "    print(coins)\n",
    "    numCoins = coinChangeHelper(self, coins, amount)\n",
    "    if numCoins == float(\"inf\"):\n",
    "        return -1\n",
    "    return numCoins\n",
    "    \n",
    "def coinChangeHelper(self, coins: List[int], amount: int) -> int:\n",
    "    if amount == 0:\n",
    "        return 0\n",
    "    #print(len(coins))\n",
    "    minCoins = float(\"inf\")\n",
    "    for i in range(len(coins)):\n",
    "        if coins[i] <= amount:\n",
    "            #print(\"Amount: \", amount, \" Coin: \", coins[i])\n",
    "            minCoins = min(minCoins, coinChangeHelper(self, coins, amount - coins[i]))\n",
    "        else:\n",
    "            break\n",
    "            \n",
    "    return minCoins + 1\n"
   ]
  },
  {
   "cell_type": "code",
   "execution_count": null,
   "metadata": {},
   "outputs": [],
   "source": []
  }
 ],
 "metadata": {
  "kernelspec": {
   "display_name": "Python 3",
   "language": "python",
   "name": "python3"
  },
  "language_info": {
   "codemirror_mode": {
    "name": "ipython",
    "version": 3
   },
   "file_extension": ".py",
   "mimetype": "text/x-python",
   "name": "python",
   "nbconvert_exporter": "python",
   "pygments_lexer": "ipython3",
   "version": "3.7.6"
  }
 },
 "nbformat": 4,
 "nbformat_minor": 4
}
