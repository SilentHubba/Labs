{
 "cells": [
  {
   "cell_type": "code",
   "execution_count": 2,
   "metadata": {},
   "outputs": [],
   "source": [
    "def findPair(nums, target):\n",
    "    for i in range(len(nums)):\n",
    "        currentOne = nums[i]\n",
    "        # Binary search\n",
    "        lowerBound = i + 1\n",
    "        upperBound = len(nums) - 1\n",
    "        while lowerBound <= upperBound:\n",
    "            mid = (upperBound + lowerBound) // 2\n",
    "            if currentOne + nums[mid] == target:\n",
    "                return [i, mid]\n",
    "            elif currentOne + nums[mid] < target:\n",
    "                lowerBound = mid + 1\n",
    "            else:\n",
    "                upperBound = mid - 1\n",
    "                \n",
    "    return None"
   ]
  },
  {
   "cell_type": "code",
   "execution_count": 8,
   "metadata": {},
   "outputs": [
    {
     "name": "stdout",
     "output_type": "stream",
     "text": [
      "[2, 6]\n"
     ]
    }
   ],
   "source": [
    "nums = [1, 2, 5, 10, 13, 20, 37]\n",
    "print(findPair(nums, 42))"
   ]
  },
  {
   "cell_type": "code",
   "execution_count": 17,
   "metadata": {},
   "outputs": [
    {
     "name": "stdout",
     "output_type": "stream",
     "text": [
      "f\n"
     ]
    }
   ],
   "source": [
    "print(\"f\")"
   ]
  },
  {
   "cell_type": "code",
   "execution_count": null,
   "metadata": {},
   "outputs": [],
   "source": []
  }
 ],
 "metadata": {
  "kernelspec": {
   "display_name": "Python 3",
   "language": "python",
   "name": "python3"
  },
  "language_info": {
   "codemirror_mode": {
    "name": "ipython",
    "version": 3
   },
   "file_extension": ".py",
   "mimetype": "text/x-python",
   "name": "python",
   "nbconvert_exporter": "python",
   "pygments_lexer": "ipython3",
   "version": "3.7.6"
  }
 },
 "nbformat": 4,
 "nbformat_minor": 4
}
